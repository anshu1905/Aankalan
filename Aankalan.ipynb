{
 "cells": [
  {
   "cell_type": "code",
   "execution_count": 2,
   "metadata": {},
   "outputs": [],
   "source": [
    "#importing the libraries\n",
    "import os\n",
    "import pandas as pd\n",
    "import numpy as np\n",
    "import matplotlib.pyplot as plt\n",
    "%matplotlib inline"
   ]
  },
  {
   "cell_type": "code",
   "execution_count": 5,
   "metadata": {},
   "outputs": [
    {
     "name": "stdin",
     "output_type": "stream",
     "text": [
      "Enter a number 0\n",
      "Enter a number 0\n"
     ]
    },
    {
     "data": {
      "text/html": [
       "<div>\n",
       "<style scoped>\n",
       "    .dataframe tbody tr th:only-of-type {\n",
       "        vertical-align: middle;\n",
       "    }\n",
       "\n",
       "    .dataframe tbody tr th {\n",
       "        vertical-align: top;\n",
       "    }\n",
       "\n",
       "    .dataframe thead th {\n",
       "        text-align: right;\n",
       "    }\n",
       "</style>\n",
       "<table border=\"1\" class=\"dataframe\">\n",
       "  <thead>\n",
       "    <tr style=\"text-align: right;\">\n",
       "      <th></th>\n",
       "      <th>date</th>\n",
       "      <th>open</th>\n",
       "      <th>high</th>\n",
       "      <th>low</th>\n",
       "      <th>close</th>\n",
       "      <th>volume</th>\n",
       "    </tr>\n",
       "  </thead>\n",
       "  <tbody>\n",
       "    <tr>\n",
       "      <th>0</th>\n",
       "      <td>2022-01-03 09:15:00</td>\n",
       "      <td>252.70</td>\n",
       "      <td>254.25</td>\n",
       "      <td>252.35</td>\n",
       "      <td>252.60</td>\n",
       "      <td>319790</td>\n",
       "    </tr>\n",
       "    <tr>\n",
       "      <th>1</th>\n",
       "      <td>2022-01-03 09:30:00</td>\n",
       "      <td>252.60</td>\n",
       "      <td>253.65</td>\n",
       "      <td>251.75</td>\n",
       "      <td>252.80</td>\n",
       "      <td>220927</td>\n",
       "    </tr>\n",
       "    <tr>\n",
       "      <th>2</th>\n",
       "      <td>2022-01-03 09:45:00</td>\n",
       "      <td>252.95</td>\n",
       "      <td>254.90</td>\n",
       "      <td>252.30</td>\n",
       "      <td>252.85</td>\n",
       "      <td>526445</td>\n",
       "    </tr>\n",
       "    <tr>\n",
       "      <th>3</th>\n",
       "      <td>2022-01-03 10:00:00</td>\n",
       "      <td>252.85</td>\n",
       "      <td>253.15</td>\n",
       "      <td>252.40</td>\n",
       "      <td>252.55</td>\n",
       "      <td>280414</td>\n",
       "    </tr>\n",
       "    <tr>\n",
       "      <th>4</th>\n",
       "      <td>2022-01-03 10:15:00</td>\n",
       "      <td>252.55</td>\n",
       "      <td>253.10</td>\n",
       "      <td>252.25</td>\n",
       "      <td>252.80</td>\n",
       "      <td>112875</td>\n",
       "    </tr>\n",
       "  </tbody>\n",
       "</table>\n",
       "</div>"
      ],
      "text/plain": [
       "                  date    open    high     low   close  volume\n",
       "0  2022-01-03 09:15:00  252.70  254.25  252.35  252.60  319790\n",
       "1  2022-01-03 09:30:00  252.60  253.65  251.75  252.80  220927\n",
       "2  2022-01-03 09:45:00  252.95  254.90  252.30  252.85  526445\n",
       "3  2022-01-03 10:00:00  252.85  253.15  252.40  252.55  280414\n",
       "4  2022-01-03 10:15:00  252.55  253.10  252.25  252.80  112875"
      ]
     },
     "execution_count": 5,
     "metadata": {},
     "output_type": "execute_result"
    }
   ],
   "source": [
    "#load the data set\n",
    "data=pd.read_excel('aankalan.xls')\n",
    "data.head()"
   ]
  },
  {
   "cell_type": "code",
   "execution_count": 7,
   "metadata": {},
   "outputs": [
    {
     "data": {
      "text/html": [
       "<div>\n",
       "<style scoped>\n",
       "    .dataframe tbody tr th:only-of-type {\n",
       "        vertical-align: middle;\n",
       "    }\n",
       "\n",
       "    .dataframe tbody tr th {\n",
       "        vertical-align: top;\n",
       "    }\n",
       "\n",
       "    .dataframe thead th {\n",
       "        text-align: right;\n",
       "    }\n",
       "</style>\n",
       "<table border=\"1\" class=\"dataframe\">\n",
       "  <thead>\n",
       "    <tr style=\"text-align: right;\">\n",
       "      <th></th>\n",
       "      <th>date</th>\n",
       "      <th>open</th>\n",
       "      <th>high</th>\n",
       "      <th>low</th>\n",
       "      <th>close</th>\n",
       "      <th>volume</th>\n",
       "    </tr>\n",
       "  </thead>\n",
       "  <tbody>\n",
       "    <tr>\n",
       "      <th>0</th>\n",
       "      <td>2022-01-03 09:15:00</td>\n",
       "      <td>252.70</td>\n",
       "      <td>254.25</td>\n",
       "      <td>252.35</td>\n",
       "      <td>252.60</td>\n",
       "      <td>319790</td>\n",
       "    </tr>\n",
       "    <tr>\n",
       "      <th>1</th>\n",
       "      <td>2022-01-03 09:30:00</td>\n",
       "      <td>252.60</td>\n",
       "      <td>253.65</td>\n",
       "      <td>251.75</td>\n",
       "      <td>252.80</td>\n",
       "      <td>220927</td>\n",
       "    </tr>\n",
       "    <tr>\n",
       "      <th>2</th>\n",
       "      <td>2022-01-03 09:45:00</td>\n",
       "      <td>252.95</td>\n",
       "      <td>254.90</td>\n",
       "      <td>252.30</td>\n",
       "      <td>252.85</td>\n",
       "      <td>526445</td>\n",
       "    </tr>\n",
       "    <tr>\n",
       "      <th>3</th>\n",
       "      <td>2022-01-03 10:00:00</td>\n",
       "      <td>252.85</td>\n",
       "      <td>253.15</td>\n",
       "      <td>252.40</td>\n",
       "      <td>252.55</td>\n",
       "      <td>280414</td>\n",
       "    </tr>\n",
       "    <tr>\n",
       "      <th>4</th>\n",
       "      <td>2022-01-03 10:15:00</td>\n",
       "      <td>252.55</td>\n",
       "      <td>253.10</td>\n",
       "      <td>252.25</td>\n",
       "      <td>252.80</td>\n",
       "      <td>112875</td>\n",
       "    </tr>\n",
       "  </tbody>\n",
       "</table>\n",
       "</div>"
      ],
      "text/plain": [
       "                  date    open    high     low   close  volume\n",
       "0  2022-01-03 09:15:00  252.70  254.25  252.35  252.60  319790\n",
       "1  2022-01-03 09:30:00  252.60  253.65  251.75  252.80  220927\n",
       "2  2022-01-03 09:45:00  252.95  254.90  252.30  252.85  526445\n",
       "3  2022-01-03 10:00:00  252.85  253.15  252.40  252.55  280414\n",
       "4  2022-01-03 10:15:00  252.55  253.10  252.25  252.80  112875"
      ]
     },
     "execution_count": 7,
     "metadata": {},
     "output_type": "execute_result"
    }
   ],
   "source": [
    "df=pd.DataFrame(data)\n",
    "df.head()"
   ]
  },
  {
   "cell_type": "code",
   "execution_count": 9,
   "metadata": {},
   "outputs": [
    {
     "data": {
      "text/plain": [
       "(2000, 6)"
      ]
     },
     "execution_count": 9,
     "metadata": {},
     "output_type": "execute_result"
    }
   ],
   "source": [
    "df.shape"
   ]
  },
  {
   "cell_type": "code",
   "execution_count": 10,
   "metadata": {},
   "outputs": [
    {
     "data": {
      "text/plain": [
       "<bound method NDFrame.describe of                      date    open    high     low   close   volume\n",
       "0     2022-01-03 09:15:00  252.70  254.25  252.35  252.60   319790\n",
       "1     2022-01-03 09:30:00  252.60  253.65  251.75  252.80   220927\n",
       "2     2022-01-03 09:45:00  252.95  254.90  252.30  252.85   526445\n",
       "3     2022-01-03 10:00:00  252.85  253.15  252.40  252.55   280414\n",
       "4     2022-01-03 10:15:00  252.55  253.10  252.25  252.80   112875\n",
       "5     2022-01-03 10:30:00  252.80  253.00  252.40  252.55   162146\n",
       "6     2022-01-03 10:45:00  252.55  252.80  252.45  252.60   125512\n",
       "7     2022-01-03 11:00:00  252.55  252.85  252.45  252.80   221839\n",
       "8     2022-01-03 11:15:00  252.65  253.05  252.45  252.45   455098\n",
       "9     2022-01-03 11:30:00  252.60  252.60  251.50  251.70   210527\n",
       "10    2022-01-03 11:45:00  251.70  251.70  250.25  250.80   469877\n",
       "11    2022-01-03 12:00:00  250.80  250.85  250.00  250.75   290976\n",
       "12    2022-01-03 12:15:00  250.75  250.95  250.05  250.50   568042\n",
       "13    2022-01-03 12:30:00  250.55  250.85  250.20  250.45   452242\n",
       "14    2022-01-03 12:45:00  250.35  251.15  250.25  250.70   457443\n",
       "15    2022-01-03 13:00:00  250.70  250.95  250.30  250.90   404089\n",
       "16    2022-01-03 13:15:00  250.90  251.00  249.60  250.15   522003\n",
       "17    2022-01-03 13:30:00  250.15  250.15  249.70  249.80   114250\n",
       "18    2022-01-03 13:45:00  249.85  250.55  249.80  250.35   223438\n",
       "19    2022-01-03 14:00:00  250.35  250.40  249.90  250.00   130646\n",
       "20    2022-01-03 14:15:00  250.00  250.85  249.95  250.80   205144\n",
       "21    2022-01-03 14:30:00  250.75  250.80  249.85  249.90   832955\n",
       "22    2022-01-03 14:45:00  249.90  250.45  249.80  250.05   389315\n",
       "23    2022-01-03 15:00:00  250.20  250.40  249.20  250.10  1190267\n",
       "24    2022-01-03 15:15:00  250.00  258.00  249.85  257.95  2953611\n",
       "25    2022-01-04 09:15:00  259.15  262.35  257.95  258.85  2850659\n",
       "26    2022-01-04 09:30:00  258.80  260.10  253.90  254.65  2300353\n",
       "27    2022-01-04 09:45:00  254.85  255.95  254.30  255.95   819615\n",
       "28    2022-01-04 10:00:00  256.00  256.50  254.70  254.95   662384\n",
       "29    2022-01-04 10:15:00  254.95  255.00  254.35  254.55   270719\n",
       "...                   ...     ...     ...     ...     ...      ...\n",
       "1970  2022-04-28 14:15:00  335.45  336.35  334.90  335.70   230250\n",
       "1971  2022-04-28 14:30:00  335.70  336.00  334.80  335.40   176120\n",
       "1972  2022-04-28 14:45:00  335.50  337.45  335.35  336.85   247683\n",
       "1973  2022-04-28 15:00:00  336.85  337.30  335.15  335.70   289389\n",
       "1974  2022-04-28 15:15:00  335.70  337.95  335.00  336.00   570458\n",
       "1975  2022-04-29 09:15:00  337.00  339.45  335.05  338.05   689572\n",
       "1976  2022-04-29 09:30:00  338.25  338.25  336.10  336.10   288298\n",
       "1977  2022-04-29 09:45:00  336.10  337.00  334.35  336.35   371677\n",
       "1978  2022-04-29 10:00:00  336.35  336.50  335.20  335.60   118004\n",
       "1979  2022-04-29 10:15:00  335.60  336.30  335.35  335.80    82986\n",
       "1980  2022-04-29 10:30:00  335.80  337.00  335.80  336.15    99617\n",
       "1981  2022-04-29 10:45:00  336.15  338.00  335.80  337.00   357247\n",
       "1982  2022-04-29 11:00:00  337.00  337.90  336.35  337.35   119286\n",
       "1983  2022-04-29 11:15:00  337.35  339.00  337.30  338.85   161134\n",
       "1984  2022-04-29 11:30:00  338.85  344.60  338.85  341.05  1671607\n",
       "1985  2022-04-29 11:45:00  341.10  341.65  340.00  340.05   217843\n",
       "1986  2022-04-29 12:00:00  340.00  340.40  338.65  339.80   215367\n",
       "1987  2022-04-29 12:15:00  339.80  340.45  339.25  339.40    92085\n",
       "1988  2022-04-29 12:30:00  339.35  339.75  338.75  339.00    92748\n",
       "1989  2022-04-29 12:45:00  339.00  339.70  338.80  339.30    61104\n",
       "1990  2022-04-29 13:00:00  339.30  339.85  339.00  339.10    42163\n",
       "1991  2022-04-29 13:15:00  339.10  339.40  338.50  338.50    73351\n",
       "1992  2022-04-29 13:30:00  338.60  338.90  338.00  338.00    81610\n",
       "1993  2022-04-29 13:45:00  338.00  338.85  336.00  336.95   293838\n",
       "1994  2022-04-29 14:00:00  336.95  337.20  336.00  336.85   220012\n",
       "1995  2022-04-29 14:15:00  336.85  337.95  334.35  337.05   687194\n",
       "1996  2022-04-29 14:30:00  337.05  338.65  336.80  338.25   215018\n",
       "1997  2022-04-29 14:45:00  338.00  338.80  337.10  338.05   155628\n",
       "1998  2022-04-29 15:00:00  338.15  338.40  333.50  334.60   521086\n",
       "1999  2022-04-29 15:15:00  334.70  334.90  332.70  333.50   457038\n",
       "\n",
       "[2000 rows x 6 columns]>"
      ]
     },
     "execution_count": 10,
     "metadata": {},
     "output_type": "execute_result"
    }
   ],
   "source": [
    "df.describe"
   ]
  },
  {
   "cell_type": "code",
   "execution_count": 11,
   "metadata": {},
   "outputs": [
    {
     "name": "stdout",
     "output_type": "stream",
     "text": [
      "<class 'pandas.core.frame.DataFrame'>\n",
      "Int64Index: 2000 entries, 0 to 1999\n",
      "Data columns (total 6 columns):\n",
      "date      2000 non-null object\n",
      "open      2000 non-null float64\n",
      "high      2000 non-null float64\n",
      "low       2000 non-null float64\n",
      "close     2000 non-null float64\n",
      "volume    2000 non-null int64\n",
      "dtypes: float64(4), int64(1), object(1)\n",
      "memory usage: 109.4+ KB\n"
     ]
    }
   ],
   "source": [
    "df.info()"
   ]
  },
  {
   "cell_type": "code",
   "execution_count": 35,
   "metadata": {},
   "outputs": [
    {
     "name": "stdout",
     "output_type": "stream",
     "text": [
      "Average opening price is:  304.07205\n",
      "Average high price is:  305.11275\n",
      "Average low price is:  303.062375\n",
      "Average closing price is:  304.0875\n"
     ]
    }
   ],
   "source": [
    "avg_open=(df.iloc[:,1].sum())/2000\n",
    "avg_high=(df.iloc[:,2].sum())/2000\n",
    "avg_low=(df.iloc[:,3].sum())/2000\n",
    "avg_close=(df.iloc[:,4].sum())/2000\n",
    "\n",
    "print(\"Average opening price is: \",avg_open)\n",
    "print(\"Average high price is: \",avg_high)\n",
    "print(\"Average low price is: \",avg_low)\n",
    "print(\"Average closing price is: \",avg_close)"
   ]
  },
  {
   "cell_type": "code",
   "execution_count": 18,
   "metadata": {},
   "outputs": [
    {
     "data": {
      "text/plain": [
       "array([[252.7 ],\n",
       "       [252.6 ],\n",
       "       [252.95],\n",
       "       ...,\n",
       "       [338.  ],\n",
       "       [338.15],\n",
       "       [334.7 ]])"
      ]
     },
     "execution_count": 18,
     "metadata": {},
     "output_type": "execute_result"
    }
   ],
   "source": [
    "#Use open stock price model for fitting the model\n",
    "training_set=df.iloc[:,1:2].values\n",
    "training_set"
   ]
  },
  {
   "cell_type": "code",
   "execution_count": 19,
   "metadata": {},
   "outputs": [
    {
     "data": {
      "text/plain": [
       "array([[0.03123288],\n",
       "       [0.03013699],\n",
       "       [0.0339726 ],\n",
       "       ...,\n",
       "       [0.9660274 ],\n",
       "       [0.96767123],\n",
       "       [0.92986301]])"
      ]
     },
     "execution_count": 19,
     "metadata": {},
     "output_type": "execute_result"
    }
   ],
   "source": [
    "#Normalize the dataset\n",
    "from sklearn.preprocessing import MinMaxScaler\n",
    "\n",
    "scaler = MinMaxScaler(feature_range=(0,1))\n",
    "scaled_training_set=scaler.fit_transform(training_set)\n",
    "scaled_training_set"
   ]
  },
  {
   "cell_type": "code",
   "execution_count": 21,
   "metadata": {},
   "outputs": [
    {
     "name": "stdout",
     "output_type": "stream",
     "text": [
      "(1900, 100)\n",
      "(1900,)\n"
     ]
    }
   ],
   "source": [
    "X_train=[]\n",
    "Y_train=[]\n",
    "\n",
    "for i in range(100,len(df)):\n",
    "    X_train.append(scaled_training_set[i-100:i,0])\n",
    "    Y_train.append(scaled_training_set[i,0])\n",
    "X_train=np.array(X_train)\n",
    "Y_train=np.array(Y_train)\n",
    "\n",
    "print(X_train.shape)\n",
    "print(Y_train.shape)"
   ]
  },
  {
   "cell_type": "code",
   "execution_count": 22,
   "metadata": {},
   "outputs": [
    {
     "data": {
      "text/plain": [
       "(1900, 100, 1)"
      ]
     },
     "execution_count": 22,
     "metadata": {},
     "output_type": "execute_result"
    }
   ],
   "source": [
    "X_train=np.reshape(X_train,(X_train.shape[0],X_train.shape[1],1))\n",
    "X_train.shape"
   ]
  },
  {
   "cell_type": "code",
   "execution_count": 31,
   "metadata": {},
   "outputs": [],
   "source": [
    "#Building the model\n",
    "from tensorflow.keras.models import Sequential\n",
    "from tensorflow.keras.layers import LSTM,Dense,Dropout"
   ]
  },
  {
   "cell_type": "code",
   "execution_count": 32,
   "metadata": {},
   "outputs": [],
   "source": [
    "regressor = Sequential()\n",
    "\n",
    "regressor.add(LSTM(units=50,return_sequences=True,input_shape=(X_train.shape[1],1)))\n",
    "regressor.add(Dropout(0.2))\n",
    "\n",
    "\n",
    "regressor.add(LSTM(units=50,return_sequences=True))\n",
    "regressor.add(Dropout(0.2))\n",
    "\n",
    "\n",
    "regressor.add(LSTM(units=50,return_sequences=True))\n",
    "regressor.add(Dropout(0.2))\n",
    "\n",
    "\n",
    "regressor.add(LSTM(units=50))\n",
    "regressor.add(Dropout(0.2))\n",
    "\n",
    "regressor.add(Dense(units=1))"
   ]
  },
  {
   "cell_type": "code",
   "execution_count": 33,
   "metadata": {},
   "outputs": [
    {
     "name": "stdout",
     "output_type": "stream",
     "text": [
      "Epoch 1/100\n",
      "60/60 [==============================] - 14s 233ms/step - loss: 0.0396\n",
      "Epoch 2/100\n",
      "60/60 [==============================] - 10s 175ms/step - loss: 0.0078\n",
      "Epoch 3/100\n",
      "60/60 [==============================] - 12s 204ms/step - loss: 0.0071\n",
      "Epoch 4/100\n",
      "60/60 [==============================] - 12s 203ms/step - loss: 0.0074\n",
      "Epoch 5/100\n",
      "60/60 [==============================] - 13s 215ms/step - loss: 0.0073\n",
      "Epoch 6/100\n",
      "60/60 [==============================] - 11s 183ms/step - loss: 0.0062\n",
      "Epoch 7/100\n",
      "60/60 [==============================] - 11s 179ms/step - loss: 0.0063\n",
      "Epoch 8/100\n",
      "60/60 [==============================] - 10s 172ms/step - loss: 0.0060\n",
      "Epoch 9/100\n",
      "60/60 [==============================] - 14s 232ms/step - loss: 0.0056\n",
      "Epoch 10/100\n",
      "60/60 [==============================] - 14s 239ms/step - loss: 0.0059\n",
      "Epoch 11/100\n",
      "60/60 [==============================] - 15s 242ms/step - loss: 0.0052\n",
      "Epoch 12/100\n",
      "60/60 [==============================] - 17s 276ms/step - loss: 0.0052\n",
      "Epoch 13/100\n",
      "60/60 [==============================] - 18s 293ms/step - loss: 0.0051\n",
      "Epoch 14/100\n",
      "60/60 [==============================] - 16s 268ms/step - loss: 0.0048\n",
      "Epoch 15/100\n",
      "60/60 [==============================] - 15s 253ms/step - loss: 0.0049\n",
      "Epoch 16/100\n",
      "60/60 [==============================] - 17s 285ms/step - loss: 0.0042\n",
      "Epoch 17/100\n",
      "60/60 [==============================] - 14s 229ms/step - loss: 0.0043\n",
      "Epoch 18/100\n",
      "60/60 [==============================] - 15s 248ms/step - loss: 0.0042\n",
      "Epoch 19/100\n",
      "60/60 [==============================] - 16s 269ms/step - loss: 0.0042\n",
      "Epoch 20/100\n",
      "60/60 [==============================] - 14s 233ms/step - loss: 0.0040\n",
      "Epoch 21/100\n",
      "60/60 [==============================] - 17s 285ms/step - loss: 0.0040\n",
      "Epoch 22/100\n",
      "60/60 [==============================] - 15s 256ms/step - loss: 0.0039\n",
      "Epoch 23/100\n",
      "60/60 [==============================] - 10s 160ms/step - loss: 0.0036\n",
      "Epoch 24/100\n",
      "60/60 [==============================] - 9s 143ms/step - loss: 0.0035\n",
      "Epoch 25/100\n",
      "60/60 [==============================] - 10s 160ms/step - loss: 0.0034\n",
      "Epoch 26/100\n",
      "60/60 [==============================] - 9s 152ms/step - loss: 0.0038\n",
      "Epoch 27/100\n",
      "60/60 [==============================] - 9s 146ms/step - loss: 0.0035\n",
      "Epoch 28/100\n",
      "60/60 [==============================] - 9s 145ms/step - loss: 0.0032\n",
      "Epoch 29/100\n",
      "60/60 [==============================] - 9s 149ms/step - loss: 0.0031\n",
      "Epoch 30/100\n",
      "60/60 [==============================] - 9s 154ms/step - loss: 0.0030\n",
      "Epoch 31/100\n",
      "60/60 [==============================] - 9s 151ms/step - loss: 0.0029\n",
      "Epoch 32/100\n",
      "60/60 [==============================] - 9s 153ms/step - loss: 0.0028\n",
      "Epoch 33/100\n",
      "60/60 [==============================] - 9s 147ms/step - loss: 0.0027\n",
      "Epoch 34/100\n",
      "60/60 [==============================] - 9s 148ms/step - loss: 0.0027\n",
      "Epoch 35/100\n",
      "60/60 [==============================] - 9s 149ms/step - loss: 0.0028\n",
      "Epoch 36/100\n",
      "60/60 [==============================] - 9s 145ms/step - loss: 0.0025\n",
      "Epoch 37/100\n",
      "60/60 [==============================] - 9s 144ms/step - loss: 0.0025\n",
      "Epoch 38/100\n",
      "60/60 [==============================] - 9s 145ms/step - loss: 0.0029\n",
      "Epoch 39/100\n",
      "60/60 [==============================] - 10s 161ms/step - loss: 0.0027\n",
      "Epoch 40/100\n",
      "60/60 [==============================] - 9s 148ms/step - loss: 0.0025\n",
      "Epoch 41/100\n",
      "60/60 [==============================] - 9s 145ms/step - loss: 0.0022\n",
      "Epoch 42/100\n",
      "60/60 [==============================] - 9s 143ms/step - loss: 0.0023\n",
      "Epoch 43/100\n",
      "60/60 [==============================] - 9s 146ms/step - loss: 0.0022\n",
      "Epoch 44/100\n",
      "60/60 [==============================] - 9s 143ms/step - loss: 0.0021\n",
      "Epoch 45/100\n",
      "60/60 [==============================] - 9s 143ms/step - loss: 0.0024\n",
      "Epoch 46/100\n",
      "60/60 [==============================] - 9s 142ms/step - loss: 0.0020\n",
      "Epoch 47/100\n",
      "60/60 [==============================] - 9s 143ms/step - loss: 0.0022\n",
      "Epoch 48/100\n",
      "60/60 [==============================] - 9s 143ms/step - loss: 0.0020\n",
      "Epoch 49/100\n",
      "60/60 [==============================] - 9s 144ms/step - loss: 0.0019\n",
      "Epoch 50/100\n",
      "60/60 [==============================] - 9s 148ms/step - loss: 0.0020\n",
      "Epoch 51/100\n",
      "60/60 [==============================] - 9s 143ms/step - loss: 0.0021\n",
      "Epoch 52/100\n",
      "60/60 [==============================] - 9s 143ms/step - loss: 0.0020\n",
      "Epoch 53/100\n",
      "60/60 [==============================] - 9s 149ms/step - loss: 0.0018\n",
      "Epoch 54/100\n",
      "60/60 [==============================] - 9s 151ms/step - loss: 0.0019\n",
      "Epoch 55/100\n",
      "60/60 [==============================] - 9s 148ms/step - loss: 0.0018\n",
      "Epoch 56/100\n",
      "60/60 [==============================] - 9s 145ms/step - loss: 0.0018\n",
      "Epoch 57/100\n",
      "60/60 [==============================] - 9s 154ms/step - loss: 0.0017\n",
      "Epoch 58/100\n",
      "60/60 [==============================] - 9s 145ms/step - loss: 0.0016\n",
      "Epoch 59/100\n",
      "60/60 [==============================] - 9s 145ms/step - loss: 0.0016\n",
      "Epoch 60/100\n",
      "60/60 [==============================] - 10s 169ms/step - loss: 0.0019\n",
      "Epoch 61/100\n",
      "60/60 [==============================] - 9s 157ms/step - loss: 0.0016\n",
      "Epoch 62/100\n",
      "60/60 [==============================] - 9s 148ms/step - loss: 0.0016\n",
      "Epoch 63/100\n",
      "60/60 [==============================] - 9s 157ms/step - loss: 0.0016\n",
      "Epoch 64/100\n",
      "60/60 [==============================] - 9s 154ms/step - loss: 0.0015\n",
      "Epoch 65/100\n",
      "60/60 [==============================] - 9s 149ms/step - loss: 0.0016\n",
      "Epoch 66/100\n",
      "60/60 [==============================] - 9s 153ms/step - loss: 0.0014\n",
      "Epoch 67/100\n",
      "60/60 [==============================] - 9s 151ms/step - loss: 0.0015\n",
      "Epoch 68/100\n",
      "60/60 [==============================] - 8s 134ms/step - loss: 0.0015\n",
      "Epoch 69/100\n",
      "60/60 [==============================] - 8s 131ms/step - loss: 0.0014\n",
      "Epoch 70/100\n",
      "60/60 [==============================] - 8s 135ms/step - loss: 0.0015\n",
      "Epoch 71/100\n",
      "60/60 [==============================] - 8s 135ms/step - loss: 0.0014\n",
      "Epoch 72/100\n",
      "60/60 [==============================] - 8s 134ms/step - loss: 0.0014\n",
      "Epoch 73/100\n",
      "60/60 [==============================] - 8s 133ms/step - loss: 0.0014\n",
      "Epoch 74/100\n",
      "60/60 [==============================] - 8s 135ms/step - loss: 0.0013\n",
      "Epoch 75/100\n",
      "60/60 [==============================] - 8s 133ms/step - loss: 0.0014\n",
      "Epoch 76/100\n",
      "60/60 [==============================] - 8s 134ms/step - loss: 0.0014\n",
      "Epoch 77/100\n",
      "60/60 [==============================] - 8s 135ms/step - loss: 0.0014\n",
      "Epoch 78/100\n",
      "60/60 [==============================] - 8s 134ms/step - loss: 0.0013\n",
      "Epoch 79/100\n",
      "60/60 [==============================] - 8s 135ms/step - loss: 0.0013\n",
      "Epoch 80/100\n",
      "60/60 [==============================] - 8s 136ms/step - loss: 0.0014\n",
      "Epoch 81/100\n",
      "60/60 [==============================] - 8s 135ms/step - loss: 0.0012\n",
      "Epoch 82/100\n",
      "60/60 [==============================] - 8s 135ms/step - loss: 0.0011\n",
      "Epoch 83/100\n",
      "60/60 [==============================] - 8s 135ms/step - loss: 0.0012\n",
      "Epoch 84/100\n",
      "60/60 [==============================] - 8s 136ms/step - loss: 0.0012\n",
      "Epoch 85/100\n",
      "60/60 [==============================] - 8s 135ms/step - loss: 0.0013\n",
      "Epoch 86/100\n",
      "60/60 [==============================] - 8s 136ms/step - loss: 0.0011\n",
      "Epoch 87/100\n",
      "60/60 [==============================] - 8s 136ms/step - loss: 0.0013\n",
      "Epoch 88/100\n",
      "60/60 [==============================] - 8s 136ms/step - loss: 0.0012\n",
      "Epoch 89/100\n",
      "60/60 [==============================] - 8s 137ms/step - loss: 0.0012\n",
      "Epoch 90/100\n",
      "60/60 [==============================] - 8s 136ms/step - loss: 0.0011\n",
      "Epoch 91/100\n",
      "60/60 [==============================] - 8s 137ms/step - loss: 0.0012\n",
      "Epoch 92/100\n",
      "60/60 [==============================] - 8s 136ms/step - loss: 0.0011\n",
      "Epoch 93/100\n",
      "60/60 [==============================] - 8s 137ms/step - loss: 0.0011\n",
      "Epoch 94/100\n",
      "60/60 [==============================] - 8s 136ms/step - loss: 0.0011\n",
      "Epoch 95/100\n",
      "60/60 [==============================] - 8s 137ms/step - loss: 0.0013\n",
      "Epoch 96/100\n",
      "60/60 [==============================] - 8s 137ms/step - loss: 0.0011\n",
      "Epoch 97/100\n",
      "60/60 [==============================] - 8s 137ms/step - loss: 0.0010\n",
      "Epoch 98/100\n",
      "60/60 [==============================] - 8s 140ms/step - loss: 0.0011\n",
      "Epoch 99/100\n",
      "60/60 [==============================] - 8s 137ms/step - loss: 0.0010\n",
      "Epoch 100/100\n",
      "60/60 [==============================] - 8s 137ms/step - loss: 9.7430e-04\n"
     ]
    },
    {
     "data": {
      "text/plain": [
       "<tensorflow.python.keras.callbacks.History at 0x21ea1dfc940>"
      ]
     },
     "execution_count": 33,
     "metadata": {},
     "output_type": "execute_result"
    }
   ],
   "source": [
    "#Fitting the model\n",
    "regressor.compile(optimizer=\"adam\",loss=\"mean_squared_error\")\n",
    "regressor.fit(X_train,Y_train,epochs=100,batch_size=32)"
   ]
  },
  {
   "cell_type": "code",
   "execution_count": 37,
   "metadata": {},
   "outputs": [],
   "source": [
    "dataset_test=pd.read_excel(\"aankalan_test.xls\")\n",
    "df_test=pd.DataFrame(dataset_test)\n",
    "actual_stock_price=df_test.iloc[:,1:2].values"
   ]
  },
  {
   "cell_type": "code",
   "execution_count": 41,
   "metadata": {},
   "outputs": [],
   "source": [
    "dataset_total=pd.concat((df['open'],df_test['open']),axis=0)\n",
    "inputs=dataset_total[len(dataset_total)-len(df_test)-100:].values\n",
    "\n",
    "inputs = inputs.reshape(-1,1)\n",
    "inputs = scaler.transform(inputs)\n",
    "\n",
    "X_test=[]\n",
    "for i in range(100,300):\n",
    "    X_test.append(inputs[i-100:i,0])\n",
    "    \n",
    "X_test=np.array(X_test)\n",
    "X_test=np.reshape(X_test,(X_test.shape[0],X_test.shape[1],1))"
   ]
  },
  {
   "cell_type": "code",
   "execution_count": 42,
   "metadata": {},
   "outputs": [],
   "source": [
    "predicted_stock_price = regressor.predict(X_test)\n",
    "predicted_stock_price = scaler.inverse_transform(predicted_stock_price)"
   ]
  },
  {
   "cell_type": "code",
   "execution_count": 44,
   "metadata": {},
   "outputs": [
    {
     "data": {
      "text/plain": [
       "<matplotlib.legend.Legend at 0x21eb1e868d0>"
      ]
     },
     "execution_count": 44,
     "metadata": {},
     "output_type": "execute_result"
    },
    {
     "data": {
      "image/png": "[encoded data removed]",
      "text/plain": [
       "<Figure size 432x288 with 1 Axes>"
      ]
     },
     "metadata": {
      "needs_background": "light"
     },
     "output_type": "display_data"
    }
   ],
   "source": [
    "plt.plot(actual_stock_price,color=\"red\",label=\"Actual Stock Price\")\n",
    "plt.plot(predicted_stock_price,color=\"blue\",label=\"Predicted Stock Price\")\n",
    "plt.title('Aankalan Stock Price Prediction')\n",
    "plt.xlabel('Time')\n",
    "plt.ylabel('Stock Price')\n",
    "plt.legend()"
   ]
  }
 ],
 "metadata": {
  "kernelspec": {
   "display_name": "Python 3",
   "language": "python",
   "name": "python3"
  },
  "language_info": {
   "codemirror_mode": {
    "name": "ipython",
    "version": 3
   },
   "file_extension": ".py",
   "mimetype": "text/x-python",
   "name": "python",
   "nbconvert_exporter": "python",
   "pygments_lexer": "ipython3",
   "version": "3.7.0"
  }
 },
 "nbformat": 4,
 "nbformat_minor": 4
}
